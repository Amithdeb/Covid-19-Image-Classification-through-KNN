{
  "nbformat": 4,
  "nbformat_minor": 0,
  "metadata": {
    "colab": {
      "provenance": []
    },
    "kernelspec": {
      "name": "python3",
      "display_name": "Python 3"
    },
    "language_info": {
      "name": "python"
    }
  },
  "cells": [
    {
      "cell_type": "code",
      "execution_count": 56,
      "metadata": {
        "id": "FfL5P0d0CfjJ"
      },
      "outputs": [],
      "source": [
        "from sklearn.neighbors import KNeighborsClassifier\n",
        "model1= KNeighborsClassifier(n_neighbors=1,weights='uniform',algorithm='auto',leaf_size=30,\n",
        "                                             p=2,metric='minkowski',metric_params=None,n_jobs=None)"
      ]
    },
    {
      "cell_type": "code",
      "execution_count": 57,
      "metadata": {
        "id": "SJZO1Uizh578"
      },
      "outputs": [],
      "source": [
        "import numpy as np\n",
        "import pandas as pd\n",
        "import matplotlib.pyplot as plt"
      ]
    },
    {
      "cell_type": "code",
      "source": [
        "from google.colab import drive\n",
        "drive.mount('/content/drive/')"
      ],
      "metadata": {
        "colab": {
          "base_uri": "https://localhost:8080/"
        },
        "id": "cN7d8ex7id_O",
        "outputId": "16342806-55f7-4da4-99a8-534764eff291"
      },
      "execution_count": 58,
      "outputs": [
        {
          "output_type": "stream",
          "name": "stdout",
          "text": [
            "Drive already mounted at /content/drive/; to attempt to forcibly remount, call drive.mount(\"/content/drive/\", force_remount=True).\n"
          ]
        }
      ]
    },
    {
      "cell_type": "code",
      "source": [
        "image_data = np.load('/content/drive/MyDrive/ASSIGNMENT-3/data.npy')\n",
        "label_data = np.load('/content/drive/MyDrive/ASSIGNMENT-3/labels.npy')\n",
        "print(f\"Image data shape: {image_data.shape}\")\n",
        "print(f\"Label data shape: {label_data.shape}\")"
      ],
      "metadata": {
        "colab": {
          "base_uri": "https://localhost:8080/"
        },
        "id": "uzL5K4EJ-45f",
        "outputId": "eab385c4-a1ae-4c68-c62e-10d80065712f"
      },
      "execution_count": 59,
      "outputs": [
        {
          "output_type": "stream",
          "name": "stdout",
          "text": [
            "Image data shape: (100, 299, 299)\n",
            "Label data shape: (100,)\n"
          ]
        }
      ]
    },
    {
      "cell_type": "code",
      "source": [
        "image_data = image_data.reshape(-1, 299 * 299)\n",
        "image_df = pd.DataFrame(image_data, columns=[f'feature_{i}' for i in range(image_data.shape[1])])\n",
        "label_df = pd.DataFrame(label_data, columns=['Label'])\n",
        "merged_data = pd.concat([image_df, label_df], axis=1)\n",
        "print(merged_data)"
      ],
      "metadata": {
        "colab": {
          "base_uri": "https://localhost:8080/"
        },
        "id": "fP1egpFwBwGm",
        "outputId": "8c8ade24-8bfb-484b-cbfb-359f79ae8ffb"
      },
      "execution_count": 60,
      "outputs": [
        {
          "output_type": "stream",
          "name": "stdout",
          "text": [
            "    feature_0  feature_1  feature_2  feature_3  feature_4  feature_5  \\\n",
            "0       135.0      133.0      131.0      129.0      129.0      129.0   \n",
            "1       185.0       40.0        0.0        0.0        0.0        0.0   \n",
            "2        24.0       24.0       24.0       24.0       23.0       23.0   \n",
            "3        76.0       77.0       76.0       76.0       77.0       76.0   \n",
            "4         1.0        0.0        0.0        0.0        0.0        0.0   \n",
            "..        ...        ...        ...        ...        ...        ...   \n",
            "95      255.0      255.0      255.0      255.0      255.0      255.0   \n",
            "96       17.0       11.0        7.0        5.0        4.0        4.0   \n",
            "97        0.0        0.0        0.0        0.0        0.0        0.0   \n",
            "98        1.0        0.0        0.0        0.0        0.0        0.0   \n",
            "99       25.0        8.0        2.0        0.0        0.0        0.0   \n",
            "\n",
            "    feature_6  feature_7  feature_8  feature_9  ...  feature_89392  \\\n",
            "0       129.0      128.0      128.0      128.0  ...          172.0   \n",
            "1         0.0        0.0        0.0        0.0  ...           21.0   \n",
            "2        22.0       22.0       21.0       21.0  ...           29.0   \n",
            "3        77.0       77.0       78.0       77.0  ...          120.0   \n",
            "4         0.0        0.0        0.0        0.0  ...           14.0   \n",
            "..        ...        ...        ...        ...  ...            ...   \n",
            "95      255.0      255.0      255.0      255.0  ...           17.0   \n",
            "96        4.0        3.0        3.0        3.0  ...           58.0   \n",
            "97        0.0        0.0        0.0        0.0  ...           66.0   \n",
            "98        0.0        0.0        0.0        0.0  ...          122.0   \n",
            "99        0.0        0.0        0.0        0.0  ...            0.0   \n",
            "\n",
            "    feature_89393  feature_89394  feature_89395  feature_89396  feature_89397  \\\n",
            "0           170.0          168.0          166.0          165.0          164.0   \n",
            "1             7.0            0.0            1.0            1.0            0.0   \n",
            "2            28.0           27.0           31.0           32.0           31.0   \n",
            "3           120.0          109.0          101.0           95.0           92.0   \n",
            "4             0.0            0.0            0.0            0.0            0.0   \n",
            "..            ...            ...            ...            ...            ...   \n",
            "95           18.0           23.0           27.0           35.0           45.0   \n",
            "96           76.0           95.0          117.0          133.0          137.0   \n",
            "97           54.0           45.0           34.0           22.0           11.0   \n",
            "98          120.0          117.0          116.0          117.0          118.0   \n",
            "99            0.0            0.0            0.0            0.0            0.0   \n",
            "\n",
            "    feature_89398  feature_89399  feature_89400     Label  \n",
            "0           164.0          166.0          161.0  Infected  \n",
            "1             1.0           45.0          167.0  Infected  \n",
            "2            28.0           27.0           28.0  Infected  \n",
            "3            90.0           90.0           90.0  Infected  \n",
            "4             7.0           27.0           50.0  Infected  \n",
            "..            ...            ...            ...       ...  \n",
            "95           63.0           88.0          112.0    Normal  \n",
            "96          134.0          131.0          130.0    Normal  \n",
            "97            3.0            0.0            0.0    Normal  \n",
            "98          120.0          126.0          134.0    Normal  \n",
            "99            0.0            0.0            0.0    Normal  \n",
            "\n",
            "[100 rows x 89402 columns]\n"
          ]
        }
      ]
    },
    {
      "cell_type": "code",
      "source": [
        "print(merged_data['Label'])"
      ],
      "metadata": {
        "colab": {
          "base_uri": "https://localhost:8080/"
        },
        "id": "lLVwa9nKEYRx",
        "outputId": "8f98a659-c198-4415-e4c4-7e08252ae394"
      },
      "execution_count": 61,
      "outputs": [
        {
          "output_type": "stream",
          "name": "stdout",
          "text": [
            "0     Infected\n",
            "1     Infected\n",
            "2     Infected\n",
            "3     Infected\n",
            "4     Infected\n",
            "        ...   \n",
            "95      Normal\n",
            "96      Normal\n",
            "97      Normal\n",
            "98      Normal\n",
            "99      Normal\n",
            "Name: Label, Length: 100, dtype: object\n"
          ]
        }
      ]
    },
    {
      "cell_type": "code",
      "source": [
        "X = merged_data.drop('Label', axis=1)\n",
        "y = merged_data['Label']"
      ],
      "metadata": {
        "id": "5kY9Z-IZIRrX"
      },
      "execution_count": 62,
      "outputs": []
    },
    {
      "cell_type": "code",
      "source": [
        "from sklearn.model_selection import train_test_split\n",
        "X_train, X_test, y_train, y_test = train_test_split(X, y, test_size=0.2, random_state=42)"
      ],
      "metadata": {
        "id": "1nMirKMGIsNy"
      },
      "execution_count": 63,
      "outputs": []
    },
    {
      "cell_type": "code",
      "source": [
        "model1.fit(X_train, y_train)\n",
        "y_pred = model1.predict(X_test)"
      ],
      "metadata": {
        "id": "iuKz19fAJg3-"
      },
      "execution_count": 64,
      "outputs": []
    },
    {
      "cell_type": "code",
      "source": [
        "from sklearn.metrics import accuracy_score\n",
        "accuracy = accuracy_score(y_test, y_pred)\n",
        "print(f'Accuracy: {accuracy}')"
      ],
      "metadata": {
        "colab": {
          "base_uri": "https://localhost:8080/"
        },
        "id": "pvK1sQ-JKtoi",
        "outputId": "7cf43795-234e-41c2-f57c-c26633300dda"
      },
      "execution_count": 65,
      "outputs": [
        {
          "output_type": "stream",
          "name": "stdout",
          "text": [
            "Accuracy: 0.75\n"
          ]
        }
      ]
    },
    {
      "cell_type": "code",
      "source": [
        "error_rate= []\n",
        "\n",
        "for i in range(1,40):\n",
        "  model1= KNeighborsClassifier(n_neighbors=i)\n",
        "  model1.fit(X_train, y_train)\n",
        "  y_pred=model1.predict(X_test)\n",
        "  err_rate=np.mean(y_pred != y_test)\n",
        "  error_rate.append(err_rate)\n",
        "\n",
        "plt.figure(figsize=(10,6))\n",
        "plt.plot(range(1,40),\n",
        "         error_rate,\n",
        "         color='blue',\n",
        "         linestyle='dashed',\n",
        "         marker='o',\n",
        "         markerfacecolor='red',\n",
        "         markersize=10\n",
        "         )"
      ],
      "metadata": {
        "colab": {
          "base_uri": "https://localhost:8080/",
          "height": 462
        },
        "id": "NM6EDFr1gBdj",
        "outputId": "ee4ab08c-68ea-4e0f-9369-2bb48bc1be03"
      },
      "execution_count": 44,
      "outputs": [
        {
          "output_type": "execute_result",
          "data": {
            "text/plain": [
              "[<matplotlib.lines.Line2D at 0x781e42ecce50>]"
            ]
          },
          "metadata": {},
          "execution_count": 44
        },
        {
          "output_type": "display_data",
          "data": {
            "text/plain": [
              "<Figure size 1000x600 with 1 Axes>"
            ],
            "image/png": "[encoded data removed]"
          },
          "metadata": {}
        }
      ]
    },
    {
      "cell_type": "code",
      "source": [
        "print(\"Minimum error\", min(error_rate), \"at k=\", error_rate.index(min(error_rate)))"
      ],
      "metadata": {
        "colab": {
          "base_uri": "https://localhost:8080/"
        },
        "id": "JFdXnEU9e2lR",
        "outputId": "34f1ea3c-e125-4ba3-99af-473357b541ec"
      },
      "execution_count": 45,
      "outputs": [
        {
          "output_type": "stream",
          "name": "stdout",
          "text": [
            "Minimum error 0.25 at k= 0\n"
          ]
        }
      ]
    },
    {
      "cell_type": "code",
      "source": [
        "error_rate= []\n",
        "model1= KNeighborsClassifier(n_neighbors=1, algorithm='ball_tree')\n",
        "model1.fit(X_train, y_train)\n",
        "y_pred=model1.predict(X_test)\n",
        "err_rate=np.mean(y_pred != y_test)\n",
        "error_rate.append(err_rate)\n",
        "print(error_rate)"
      ],
      "metadata": {
        "colab": {
          "base_uri": "https://localhost:8080/"
        },
        "id": "RbDhDHpGiopl",
        "outputId": "a2f21b96-e771-438c-c573-d644820cd5d1"
      },
      "execution_count": 69,
      "outputs": [
        {
          "output_type": "stream",
          "name": "stdout",
          "text": [
            "[0.25]\n"
          ]
        }
      ]
    },
    {
      "cell_type": "code",
      "source": [
        "\n",
        "model2= KNeighborsClassifier(n_neighbors=1,algorithm='kd_tree')\n",
        "model2.fit(X_train, y_train)\n",
        "y_pred=model2.predict(X_test)\n",
        "err_rate=np.mean(y_pred != y_test)\n",
        "error_rate.append(err_rate)\n",
        "print(error_rate)"
      ],
      "metadata": {
        "colab": {
          "base_uri": "https://localhost:8080/"
        },
        "id": "B2Rxsw98jia0",
        "outputId": "c1bf949d-24bc-4697-f5ce-fa9eccbb3564"
      },
      "execution_count": 71,
      "outputs": [
        {
          "output_type": "stream",
          "name": "stdout",
          "text": [
            "[0.25, 0.25]\n"
          ]
        }
      ]
    },
    {
      "cell_type": "code",
      "source": [
        "\n",
        "model3= KNeighborsClassifier(n_neighbors=1,algorithm='brute')\n",
        "model3.fit(X_train, y_train)\n",
        "y_pred=model3.predict(X_test)\n",
        "err_rate=np.mean(y_pred != y_test)\n",
        "error_rate.append(err_rate)\n",
        "print(error_rate)"
      ],
      "metadata": {
        "colab": {
          "base_uri": "https://localhost:8080/"
        },
        "id": "a6yxTbOUkGKc",
        "outputId": "f65de34a-0937-4593-827c-7747129caa5f"
      },
      "execution_count": 72,
      "outputs": [
        {
          "output_type": "stream",
          "name": "stdout",
          "text": [
            "[0.25, 0.25, 0.25]\n"
          ]
        }
      ]
    },
    {
      "cell_type": "code",
      "source": [
        "error_rate= []\n",
        "model1= KNeighborsClassifier(n_neighbors=1,weights='uniform',algorithm='auto',leaf_size=30,\n",
        "                        p=2,metric='minkowski',metric_params=None,n_jobs=None)\n",
        "model1.fit(X_train, y_train)\n",
        "y_pred=model1.predict(X_test)\n",
        "err_rate=np.mean(y_pred != y_test)\n",
        "error_rate.append(err_rate)\n",
        "\n",
        "model2= KNeighborsClassifier(n_neighbors=1,weights='uniform',algorithm='auto',leaf_size=30,\n",
        "                        p=1,metric='minkowski',metric_params=None,n_jobs=None)\n",
        "model2.fit(X_train, y_train)\n",
        "y_pred=model2.predict(X_test)\n",
        "err_rate=np.mean(y_pred != y_test)\n",
        "error_rate.append(err_rate)\n",
        "\n",
        "model3= KNeighborsClassifier(n_neighbors=1,weights='uniform',algorithm='auto',leaf_size=30,\n",
        "                        metric='cosine',metric_params=None,n_jobs=None)\n",
        "model3.fit(X_train, y_train)\n",
        "y_pred=model3.predict(X_test)\n",
        "err_rate=np.mean(y_pred != y_test)\n",
        "error_rate.append(err_rate)\n",
        "print(error_rate)"
      ],
      "metadata": {
        "colab": {
          "base_uri": "https://localhost:8080/"
        },
        "id": "Gm3aqxgglA90",
        "outputId": "81310702-1c0d-4e9f-8d59-531b789ce3aa"
      },
      "execution_count": 76,
      "outputs": [
        {
          "output_type": "stream",
          "name": "stdout",
          "text": [
            "[0.25, 0.4, 0.25]\n"
          ]
        }
      ]
    },
    {
      "cell_type": "markdown",
      "source": [],
      "metadata": {
        "id": "YuCwM1JQoGSm"
      }
    },
    {
      "cell_type": "markdown",
      "source": [
        "Discussions:- Here, KNN algorithm is applied to the given dataset of covid-19. So, the optimal value of k which we get here is 1 for the auto algorithm.For this k=1, we get the accuracy of 75% which is highest possible. After that, we used the ball-tree, kd-tree and brute algorithm for the k=1. But the error rate are the same for all of these algorithm. After that we used different kinds of distance metrics But the error rate was high in the case of manhattan distance whether it is low as well as same for the both case of Euclidean and cosine distance metric.\n",
        "\n",
        "\n",
        "\n",
        "strength of KNN:- It is very easy to implement and very simple.\n",
        "\n",
        "weakness:- The accuracy is not so good. Also, choosing the best distance measure is an important problem.\n",
        "\n",
        "                 THE END\n"
      ],
      "metadata": {
        "id": "6hINwC7AnrM7"
      }
    }
  ]
}